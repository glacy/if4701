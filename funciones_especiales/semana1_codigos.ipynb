{
 "cells": [
  {
   "cell_type": "markdown",
   "id": "2f597411",
   "metadata": {},
   "source": [
    ":::{attention} Ejecútame\n",
    "🐁 ¡Este notebook es ejecutable! \n",
    ":::"
   ]
  },
  {
   "cell_type": "markdown",
   "id": "c0ce44cc",
   "metadata": {
    "id": "dWH7LKhcvSSh"
   },
   "source": [
    "# Códigos"
   ]
  },
  {
   "cell_type": "markdown",
   "id": "eb6eb300",
   "metadata": {
    "id": "QVOmENgNEMK2"
   },
   "source": [
    "## Polinomios de Legendre"
   ]
  },
  {
   "cell_type": "code",
   "execution_count": null,
   "id": "126acdc8",
   "metadata": {},
   "outputs": [],
   "source": [
    "#| label: legendre\n",
    "#| placeholder: ./polinomios_legendre.png\n",
    "import numpy as np\n",
    "from scipy.special import legendre  # Función de Legendre de grado n\n",
    "import matplotlib.pyplot as plt  # biblioteca de visualización de datos\n",
    "plt.rcParams.update({'font.size': 16})\n",
    "\n",
    "x = np.linspace(-1, 1, 100)\n",
    "markers = ['o', 's', 'D', '^', 'v']  # Lista de marcadores\n",
    "\n",
    "plt.figure(figsize=(10, 6))\n",
    "for i in range(5):\n",
    "    plt.plot(x, legendre(i)(x), label=f'$P_{i}(x)$', marker=markers[i], markevery=10)\n",
    "plt.xlabel('x')\n",
    "plt.ylabel(f'$P_n(x)$')\n",
    "#plt.title('Polinomios de Legendre')\n",
    "plt.grid(True)\n",
    "plt.legend()\n",
    "plt.show()"
   ]
  },
  {
   "cell_type": "code",
   "execution_count": null,
   "id": "ad37062d",
   "metadata": {},
   "outputs": [],
   "source": [
    "#| label: legendre-2\n",
    "#| placeholder: ./polinomios_legendre-2.png\n",
    "import numpy as np\n",
    "import matplotlib.pyplot as plt\n",
    "plt.rcParams.update({'font.size': 16})\n",
    "from scipy.special import legendre\n",
    "\n",
    "# Parámetros\n",
    "l_max = 4  # Máximo orden de polinomios de Legendre\n",
    "theta = np.linspace(0, np.pi, 100)  # Valores de theta (ángulo polar)\n",
    "markers = ['o', 's', 'D', '^', 'v']  # Lista de marcadores\n",
    "# Calcular y graficar los primeros polinomios de Legendre\n",
    "plt.figure(figsize=(10, 6))\n",
    "for l in range(l_max + 1):\n",
    "    P_l = legendre(l)\n",
    "    plt.plot(np.degrees(theta), P_l(np.cos(theta)), label=f'$P_{l}(\\\\cos \\\\theta)$', marker=markers[l], markevery=10)\n",
    "\n",
    "plt.xlabel('$\\\\theta$ (grados)')\n",
    "plt.ylabel('$P_{l}(\\\\cos \\\\theta)$')\n",
    "#plt.title('Polinomios de Legendre')\n",
    "plt.legend()\n",
    "plt.grid(True)\n",
    "plt.show()"
   ]
  },
  {
   "cell_type": "code",
   "execution_count": null,
   "id": "419f432e",
   "metadata": {},
   "outputs": [],
   "source": [
    "#| label: latex-legendre\n",
    "import numpy as np\n",
    "from scipy.special import legendre\n",
    "\n",
    "# Crear el polinomio a partir de los coeficientes\n",
    "for i in range(5):\n",
    "    # Obtener los coeficientes del polinomio de Legendre\n",
    "    coef = legendre(i).coefficients\n",
    "    # Crear el polinomio en formato LaTeX\n",
    "    poly_latex = \" + \".join([f\"{coef[j]:.2f}x^{i-j}\" for j in range(i+1)])\n",
    "    # Imprimir el polinomio en formato LaTeX\n",
    "    print(f\"Polinomio de Legendre de orden {i}:\")\n",
    "    print(f\"${poly_latex}$\")\n",
    "    print()"
   ]
  },
  {
   "cell_type": "markdown",
   "id": "8dd1b256",
   "metadata": {},
   "source": [
    "## Polinomos asociados de Legendre"
   ]
  },
  {
   "cell_type": "code",
   "execution_count": null,
   "id": "3f746a8b",
   "metadata": {},
   "outputs": [],
   "source": [
    "#| label: legendre-asociados\n",
    "#| placeholder: ./polinomios_legendre_asociados.png\n",
    "import numpy as np\n",
    "import matplotlib.pyplot as plt\n",
    "plt.rcParams.update({'font.size': 16})\n",
    "from scipy.special import lpmv\n",
    "\n",
    "# Definición del rango de x\n",
    "markers = ['o', 's', 'D', '^', 'v']  # Lista de marcadores\n",
    "x = np.linspace(-1, 1, 100)\n",
    "l=3\n",
    "m=-1\n",
    "# Calcular el polinomio asociado de Legendre\n",
    "markers = ['o', 's', 'D', '^', 'v']  # Lista de marcadores\n",
    "plt.figure(figsize=(10, 6))\n",
    "# Graficar el polinomio\n",
    "for m in range(l+1):\n",
    "  P_lm = lpmv(m, l, x)\n",
    "  plt.plot(x, P_lm, label=f'$P_{l}^{m} (x)$', marker=markers[m], markevery=10)\n",
    "plt.xlabel('x')\n",
    "plt.ylabel(f'$P_l^m(x)$')\n",
    "#plt.title(r'Polinomio asociado de Legendre de $P_l^m$')\n",
    "plt.legend()\n",
    "plt.grid(True)\n",
    "plt.show()"
   ]
  },
  {
   "cell_type": "markdown",
   "id": "3178c416",
   "metadata": {},
   "source": [
    "## Armónicos esféricos"
   ]
  },
  {
   "cell_type": "code",
   "execution_count": null,
   "id": "e517f0dd",
   "metadata": {},
   "outputs": [],
   "source": [
    "#| label: armonicos-esfericos\n",
    "#| placeholder: ./armonico-esferico.png\n",
    "import numpy as np\n",
    "import matplotlib.pyplot as plt\n",
    "import scipy.special as sp\n",
    "from mpl_toolkits.mplot3d import Axes3D\n",
    "\n",
    "# Parámetros del armónico esférico\n",
    "l = 3  # Número cuántico angular\n",
    "m = 2  # Número cuántico magnético\n",
    "\n",
    "# Crear una malla en coordenadas esféricas\n",
    "theta = np.linspace(0, np.pi, 100)  # Ángulo polar\n",
    "phi = np.linspace(0, 2*np.pi, 100)  # Ángulo azimutal\n",
    "theta, phi = np.meshgrid(theta, phi)\n",
    "\n",
    "# Evaluar el armónico esférico\n",
    "Y_lm = sp.sph_harm_y(m, l, phi, theta)\n",
    "\n",
    "# Convertir a coordenadas cartesianas para graficar\n",
    "r = np.abs(Y_lm)  # Magnitud del armónico esférico\n",
    "x = r * np.sin(theta) * np.cos(phi)\n",
    "y = r * np.sin(theta) * np.sin(phi)\n",
    "z = r * np.cos(theta)\n",
    "\n",
    "# Graficar en 3D\n",
    "fig = plt.figure(figsize=(8, 6))\n",
    "ax = fig.add_subplot(111, projection='3d')\n",
    "ax.plot_surface(x, y, z, facecolors=plt.cm.viridis(r / r.max()), edgecolor='k', alpha=0.7)\n",
    "\n",
    "# Configuración del gráfico\n",
    "ax.set_xlabel('X')\n",
    "ax.set_ylabel('Y')\n",
    "ax.set_zlabel('Z')\n",
    "ax.set_title(rf'Armónico Esférico $|Y_{l}^{m}(\\theta, \\varphi)|$')\n",
    "\n",
    "plt.show()"
   ]
  }
 ],
 "metadata": {
  "author": " ",
  "downloads": [
   {
    "file": "./semana1_codigos.md",
    "title": "semana1_codigos.md"
   },
   {
    "file": "./semana1_codigos.ipynb",
    "title": "semana1_codigos.ipynb"
   }
  ],
  "kernelspec": {
   "display_name": "Python 3",
   "name": "python3"
  },
  "subject": "Funciones especiales - Semana 1"
 },
 "nbformat": 4,
 "nbformat_minor": 5
}
